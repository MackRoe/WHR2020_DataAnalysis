{
 "cells": [
  {
   "cell_type": "markdown",
   "metadata": {},
   "source": [
    "# Analysis of World Happiness 2020"
   ]
  },
  {
   "cell_type": "markdown",
   "metadata": {},
   "source": [
    "> Final Project, required for DS 1.1: Data Analysis, Spring 2020"
   ]
  },
  {
   "cell_type": "markdown",
   "metadata": {},
   "source": [
    "## Objectives"
   ]
  },
  {
   "cell_type": "markdown",
   "metadata": {},
   "source": [
    "1. Identify the problem that needs data analysis and visualization\n",
    "2. Provide data cleaning, data manipulation, and data visualization\n",
    "3. Report statistics of dataset/Outlier detection, make comparison of samples among different groups,\n",
    "and find correlation/Scatter plot\n",
    "4. Communicate with comments and explanations of processes, analysis and interpretation of results\n",
    "\n",
    "\n",
    "\n"
   ]
  },
  {
   "cell_type": "code",
   "execution_count": 72,
   "metadata": {},
   "outputs": [],
   "source": [
    "import pandas as pd\n",
    "import numpy as np\n",
    "import matplotlib.pyplot as plt\n",
    "import seaborn as sns\n",
    "\n",
    "df = pd.read_csv('WHR20_DataForFigure2.1.csv')"
   ]
  },
  {
   "cell_type": "markdown",
   "metadata": {},
   "source": [
    "### Evaluate the dataframe"
   ]
  },
  {
   "cell_type": "code",
   "execution_count": 2,
   "metadata": {},
   "outputs": [
    {
     "data": {
      "text/plain": [
       "Index(['Country name', 'Regional indicator', 'Ladder score',\n",
       "       'Standard error of ladder score', 'upperwhisker', 'lowerwhisker',\n",
       "       'Logged GDP per capita', 'Social support', 'Healthy life expectancy',\n",
       "       'Freedom to make life choices', 'Generosity',\n",
       "       'Perceptions of corruption', 'Ladder score in Dystopia',\n",
       "       'Explained by: Log GDP per capita', 'Explained by: Social support',\n",
       "       'Explained by: Healthy life expectancy',\n",
       "       'Explained by: Freedom to make life choices',\n",
       "       'Explained by: Generosity', 'Explained by: Perceptions of corruption',\n",
       "       'Dystopia + residual'],\n",
       "      dtype='object')"
      ]
     },
     "execution_count": 2,
     "metadata": {},
     "output_type": "execute_result"
    }
   ],
   "source": [
    "df.columns"
   ]
  },
  {
   "cell_type": "code",
   "execution_count": 3,
   "metadata": {},
   "outputs": [
    {
     "data": {
      "text/plain": [
       "<bound method NDFrame.head of                  Country name  Regional indicator  Ladder score  \\\n",
       "0                     Finland      Western Europe        7.8087   \n",
       "1                     Denmark      Western Europe        7.6456   \n",
       "2                 Switzerland      Western Europe        7.5599   \n",
       "3                     Iceland      Western Europe        7.5045   \n",
       "4                      Norway      Western Europe        7.4880   \n",
       "..                        ...                 ...           ...   \n",
       "148  Central African Republic  Sub-Saharan Africa        3.4759   \n",
       "149                    Rwanda  Sub-Saharan Africa        3.3123   \n",
       "150                  Zimbabwe  Sub-Saharan Africa        3.2992   \n",
       "151               South Sudan  Sub-Saharan Africa        2.8166   \n",
       "152               Afghanistan          South Asia        2.5669   \n",
       "\n",
       "     Standard error of ladder score  upperwhisker  lowerwhisker  \\\n",
       "0                          0.031156      7.869766      7.747634   \n",
       "1                          0.033492      7.711245      7.579955   \n",
       "2                          0.035014      7.628528      7.491272   \n",
       "3                          0.059616      7.621347      7.387653   \n",
       "4                          0.034837      7.556281      7.419719   \n",
       "..                              ...           ...           ...   \n",
       "148                        0.115183      3.701658      3.250141   \n",
       "149                        0.052425      3.415053      3.209547   \n",
       "150                        0.058674      3.414202      3.184198   \n",
       "151                        0.107610      3.027516      2.605684   \n",
       "152                        0.031311      2.628270      2.505530   \n",
       "\n",
       "     Logged GDP per capita  Social support  Healthy life expectancy  \\\n",
       "0                10.639267        0.954330                71.900825   \n",
       "1                10.774001        0.955991                72.402504   \n",
       "2                10.979933        0.942847                74.102448   \n",
       "3                10.772559        0.974670                73.000000   \n",
       "4                11.087804        0.952487                73.200783   \n",
       "..                     ...             ...                      ...   \n",
       "148               6.625160        0.319460                45.200001   \n",
       "149               7.600104        0.540835                61.098846   \n",
       "150               7.865712        0.763093                55.617260   \n",
       "151               7.425360        0.553707                51.000000   \n",
       "152               7.462861        0.470367                52.590000   \n",
       "\n",
       "     Freedom to make life choices  Generosity  Perceptions of corruption  \\\n",
       "0                        0.949172   -0.059482                   0.195445   \n",
       "1                        0.951444    0.066202                   0.168489   \n",
       "2                        0.921337    0.105911                   0.303728   \n",
       "3                        0.948892    0.246944                   0.711710   \n",
       "4                        0.955750    0.134533                   0.263218   \n",
       "..                            ...         ...                        ...   \n",
       "148                      0.640881    0.082410                   0.891807   \n",
       "149                      0.900589    0.055484                   0.183541   \n",
       "150                      0.711458   -0.072064                   0.810237   \n",
       "151                      0.451314    0.016519                   0.763417   \n",
       "152                      0.396573   -0.096429                   0.933687   \n",
       "\n",
       "     Ladder score in Dystopia  Explained by: Log GDP per capita  \\\n",
       "0                    1.972317                          1.285190   \n",
       "1                    1.972317                          1.326949   \n",
       "2                    1.972317                          1.390774   \n",
       "3                    1.972317                          1.326502   \n",
       "4                    1.972317                          1.424207   \n",
       "..                        ...                               ...   \n",
       "148                  1.972317                          0.041072   \n",
       "149                  1.972317                          0.343243   \n",
       "150                  1.972317                          0.425564   \n",
       "151                  1.972317                          0.289083   \n",
       "152                  1.972317                          0.300706   \n",
       "\n",
       "     Explained by: Social support  Explained by: Healthy life expectancy  \\\n",
       "0                        1.499526                               0.961271   \n",
       "1                        1.503449                               0.979333   \n",
       "2                        1.472403                               1.040533   \n",
       "3                        1.547567                               1.000843   \n",
       "4                        1.495173                               1.008072   \n",
       "..                            ...                                    ...   \n",
       "148                      0.000000                               0.000000   \n",
       "149                      0.522876                               0.572383   \n",
       "150                      1.047835                               0.375038   \n",
       "151                      0.553279                               0.208809   \n",
       "152                      0.356434                               0.266052   \n",
       "\n",
       "     Explained by: Freedom to make life choices  Explained by: Generosity  \\\n",
       "0                                      0.662317                  0.159670   \n",
       "1                                      0.665040                  0.242793   \n",
       "2                                      0.628954                  0.269056   \n",
       "3                                      0.661981                  0.362330   \n",
       "4                                      0.670201                  0.287985   \n",
       "..                                          ...                       ...   \n",
       "148                                    0.292814                  0.253513   \n",
       "149                                    0.604088                  0.235705   \n",
       "150                                    0.377405                  0.151349   \n",
       "151                                    0.065609                  0.209935   \n",
       "152                                    0.000000                  0.135235   \n",
       "\n",
       "     Explained by: Perceptions of corruption  Dystopia + residual  \n",
       "0                                   0.477857             2.762835  \n",
       "1                                   0.495260             2.432741  \n",
       "2                                   0.407946             2.350267  \n",
       "3                                   0.144541             2.460688  \n",
       "4                                   0.434101             2.168266  \n",
       "..                                       ...                  ...  \n",
       "148                                 0.028265             2.860198  \n",
       "149                                 0.485542             0.548445  \n",
       "150                                 0.080929             0.841031  \n",
       "151                                 0.111157             1.378751  \n",
       "152                                 0.001226             1.507236  \n",
       "\n",
       "[153 rows x 20 columns]>"
      ]
     },
     "execution_count": 3,
     "metadata": {},
     "output_type": "execute_result"
    }
   ],
   "source": [
    "df.head"
   ]
  },
  {
   "cell_type": "code",
   "execution_count": 5,
   "metadata": {},
   "outputs": [
    {
     "data": {
      "text/html": [
       "<div>\n",
       "<style scoped>\n",
       "    .dataframe tbody tr th:only-of-type {\n",
       "        vertical-align: middle;\n",
       "    }\n",
       "\n",
       "    .dataframe tbody tr th {\n",
       "        vertical-align: top;\n",
       "    }\n",
       "\n",
       "    .dataframe thead th {\n",
       "        text-align: right;\n",
       "    }\n",
       "</style>\n",
       "<table border=\"1\" class=\"dataframe\">\n",
       "  <thead>\n",
       "    <tr style=\"text-align: right;\">\n",
       "      <th></th>\n",
       "      <th>Country name</th>\n",
       "      <th>Regional indicator</th>\n",
       "      <th>Ladder score</th>\n",
       "      <th>Standard error of ladder score</th>\n",
       "      <th>upperwhisker</th>\n",
       "      <th>lowerwhisker</th>\n",
       "      <th>Logged GDP per capita</th>\n",
       "      <th>Social support</th>\n",
       "      <th>Healthy life expectancy</th>\n",
       "      <th>Freedom to make life choices</th>\n",
       "      <th>Generosity</th>\n",
       "      <th>Perceptions of corruption</th>\n",
       "      <th>Ladder score in Dystopia</th>\n",
       "      <th>Explained by: Log GDP per capita</th>\n",
       "      <th>Explained by: Social support</th>\n",
       "      <th>Explained by: Healthy life expectancy</th>\n",
       "      <th>Explained by: Freedom to make life choices</th>\n",
       "      <th>Explained by: Generosity</th>\n",
       "      <th>Explained by: Perceptions of corruption</th>\n",
       "      <th>Dystopia + residual</th>\n",
       "    </tr>\n",
       "  </thead>\n",
       "  <tbody>\n",
       "    <tr>\n",
       "      <th>17</th>\n",
       "      <td>United States</td>\n",
       "      <td>North America and ANZ</td>\n",
       "      <td>6.9396</td>\n",
       "      <td>0.047316</td>\n",
       "      <td>7.03234</td>\n",
       "      <td>6.84686</td>\n",
       "      <td>10.925769</td>\n",
       "      <td>0.914219</td>\n",
       "      <td>68.2995</td>\n",
       "      <td>0.84262</td>\n",
       "      <td>0.149892</td>\n",
       "      <td>0.699715</td>\n",
       "      <td>1.972317</td>\n",
       "      <td>1.373987</td>\n",
       "      <td>1.404787</td>\n",
       "      <td>0.831618</td>\n",
       "      <td>0.534608</td>\n",
       "      <td>0.298143</td>\n",
       "      <td>0.152285</td>\n",
       "      <td>2.344125</td>\n",
       "    </tr>\n",
       "  </tbody>\n",
       "</table>\n",
       "</div>"
      ],
      "text/plain": [
       "     Country name     Regional indicator  Ladder score  \\\n",
       "17  United States  North America and ANZ        6.9396   \n",
       "\n",
       "    Standard error of ladder score  upperwhisker  lowerwhisker  \\\n",
       "17                        0.047316       7.03234       6.84686   \n",
       "\n",
       "    Logged GDP per capita  Social support  Healthy life expectancy  \\\n",
       "17              10.925769        0.914219                  68.2995   \n",
       "\n",
       "    Freedom to make life choices  Generosity  Perceptions of corruption  \\\n",
       "17                       0.84262    0.149892                   0.699715   \n",
       "\n",
       "    Ladder score in Dystopia  Explained by: Log GDP per capita  \\\n",
       "17                  1.972317                          1.373987   \n",
       "\n",
       "    Explained by: Social support  Explained by: Healthy life expectancy  \\\n",
       "17                      1.404787                               0.831618   \n",
       "\n",
       "    Explained by: Freedom to make life choices  Explained by: Generosity  \\\n",
       "17                                    0.534608                  0.298143   \n",
       "\n",
       "    Explained by: Perceptions of corruption  Dystopia + residual  \n",
       "17                                 0.152285             2.344125  "
      ]
     },
     "execution_count": 5,
     "metadata": {},
     "output_type": "execute_result"
    }
   ],
   "source": [
    "US_happiness = df.loc[df['Country name'] == 'United States']\n",
    "US_happiness.head()"
   ]
  },
  {
   "cell_type": "code",
   "execution_count": 21,
   "metadata": {},
   "outputs": [
    {
     "data": {
      "text/html": [
       "<div>\n",
       "<style scoped>\n",
       "    .dataframe tbody tr th:only-of-type {\n",
       "        vertical-align: middle;\n",
       "    }\n",
       "\n",
       "    .dataframe tbody tr th {\n",
       "        vertical-align: top;\n",
       "    }\n",
       "\n",
       "    .dataframe thead th {\n",
       "        text-align: right;\n",
       "    }\n",
       "</style>\n",
       "<table border=\"1\" class=\"dataframe\">\n",
       "  <thead>\n",
       "    <tr style=\"text-align: right;\">\n",
       "      <th></th>\n",
       "      <th>Country name</th>\n",
       "      <th>Regional indicator</th>\n",
       "      <th>Ladder score</th>\n",
       "      <th>Standard error of ladder score</th>\n",
       "      <th>upperwhisker</th>\n",
       "      <th>lowerwhisker</th>\n",
       "      <th>Logged GDP per capita</th>\n",
       "      <th>Social support</th>\n",
       "      <th>Healthy life expectancy</th>\n",
       "      <th>Freedom to make life choices</th>\n",
       "      <th>Generosity</th>\n",
       "      <th>Perceptions of corruption</th>\n",
       "      <th>Ladder score in Dystopia</th>\n",
       "      <th>Explained by: Log GDP per capita</th>\n",
       "      <th>Explained by: Social support</th>\n",
       "      <th>Explained by: Healthy life expectancy</th>\n",
       "      <th>Explained by: Freedom to make life choices</th>\n",
       "      <th>Explained by: Generosity</th>\n",
       "      <th>Explained by: Perceptions of corruption</th>\n",
       "      <th>Dystopia + residual</th>\n",
       "    </tr>\n",
       "  </thead>\n",
       "  <tbody>\n",
       "    <tr>\n",
       "      <th>7</th>\n",
       "      <td>New Zealand</td>\n",
       "      <td>North America and ANZ</td>\n",
       "      <td>7.2996</td>\n",
       "      <td>0.039465</td>\n",
       "      <td>7.376953</td>\n",
       "      <td>7.222248</td>\n",
       "      <td>10.500943</td>\n",
       "      <td>0.949119</td>\n",
       "      <td>73.202629</td>\n",
       "      <td>0.936217</td>\n",
       "      <td>0.191598</td>\n",
       "      <td>0.221139</td>\n",
       "      <td>1.972317</td>\n",
       "      <td>1.242318</td>\n",
       "      <td>1.487218</td>\n",
       "      <td>1.008138</td>\n",
       "      <td>0.646790</td>\n",
       "      <td>0.325726</td>\n",
       "      <td>0.461268</td>\n",
       "      <td>2.128108</td>\n",
       "    </tr>\n",
       "    <tr>\n",
       "      <th>10</th>\n",
       "      <td>Canada</td>\n",
       "      <td>North America and ANZ</td>\n",
       "      <td>7.2321</td>\n",
       "      <td>0.040405</td>\n",
       "      <td>7.311295</td>\n",
       "      <td>7.152905</td>\n",
       "      <td>10.692369</td>\n",
       "      <td>0.927177</td>\n",
       "      <td>73.601601</td>\n",
       "      <td>0.933913</td>\n",
       "      <td>0.124771</td>\n",
       "      <td>0.390843</td>\n",
       "      <td>1.972317</td>\n",
       "      <td>1.301648</td>\n",
       "      <td>1.435392</td>\n",
       "      <td>1.022502</td>\n",
       "      <td>0.644028</td>\n",
       "      <td>0.281529</td>\n",
       "      <td>0.351702</td>\n",
       "      <td>2.195269</td>\n",
       "    </tr>\n",
       "    <tr>\n",
       "      <th>11</th>\n",
       "      <td>Australia</td>\n",
       "      <td>North America and ANZ</td>\n",
       "      <td>7.2228</td>\n",
       "      <td>0.041841</td>\n",
       "      <td>7.304808</td>\n",
       "      <td>7.140791</td>\n",
       "      <td>10.720596</td>\n",
       "      <td>0.944855</td>\n",
       "      <td>73.604538</td>\n",
       "      <td>0.915432</td>\n",
       "      <td>0.190460</td>\n",
       "      <td>0.415169</td>\n",
       "      <td>1.972317</td>\n",
       "      <td>1.310396</td>\n",
       "      <td>1.477146</td>\n",
       "      <td>1.022608</td>\n",
       "      <td>0.621877</td>\n",
       "      <td>0.324974</td>\n",
       "      <td>0.335996</td>\n",
       "      <td>2.129804</td>\n",
       "    </tr>\n",
       "    <tr>\n",
       "      <th>17</th>\n",
       "      <td>United States</td>\n",
       "      <td>North America and ANZ</td>\n",
       "      <td>6.9396</td>\n",
       "      <td>0.047316</td>\n",
       "      <td>7.032340</td>\n",
       "      <td>6.846860</td>\n",
       "      <td>10.925769</td>\n",
       "      <td>0.914219</td>\n",
       "      <td>68.299500</td>\n",
       "      <td>0.842620</td>\n",
       "      <td>0.149892</td>\n",
       "      <td>0.699715</td>\n",
       "      <td>1.972317</td>\n",
       "      <td>1.373987</td>\n",
       "      <td>1.404787</td>\n",
       "      <td>0.831618</td>\n",
       "      <td>0.534608</td>\n",
       "      <td>0.298143</td>\n",
       "      <td>0.152285</td>\n",
       "      <td>2.344125</td>\n",
       "    </tr>\n",
       "  </tbody>\n",
       "</table>\n",
       "</div>"
      ],
      "text/plain": [
       "     Country name     Regional indicator  Ladder score  \\\n",
       "7     New Zealand  North America and ANZ        7.2996   \n",
       "10         Canada  North America and ANZ        7.2321   \n",
       "11      Australia  North America and ANZ        7.2228   \n",
       "17  United States  North America and ANZ        6.9396   \n",
       "\n",
       "    Standard error of ladder score  upperwhisker  lowerwhisker  \\\n",
       "7                         0.039465      7.376953      7.222248   \n",
       "10                        0.040405      7.311295      7.152905   \n",
       "11                        0.041841      7.304808      7.140791   \n",
       "17                        0.047316      7.032340      6.846860   \n",
       "\n",
       "    Logged GDP per capita  Social support  Healthy life expectancy  \\\n",
       "7               10.500943        0.949119                73.202629   \n",
       "10              10.692369        0.927177                73.601601   \n",
       "11              10.720596        0.944855                73.604538   \n",
       "17              10.925769        0.914219                68.299500   \n",
       "\n",
       "    Freedom to make life choices  Generosity  Perceptions of corruption  \\\n",
       "7                       0.936217    0.191598                   0.221139   \n",
       "10                      0.933913    0.124771                   0.390843   \n",
       "11                      0.915432    0.190460                   0.415169   \n",
       "17                      0.842620    0.149892                   0.699715   \n",
       "\n",
       "    Ladder score in Dystopia  Explained by: Log GDP per capita  \\\n",
       "7                   1.972317                          1.242318   \n",
       "10                  1.972317                          1.301648   \n",
       "11                  1.972317                          1.310396   \n",
       "17                  1.972317                          1.373987   \n",
       "\n",
       "    Explained by: Social support  Explained by: Healthy life expectancy  \\\n",
       "7                       1.487218                               1.008138   \n",
       "10                      1.435392                               1.022502   \n",
       "11                      1.477146                               1.022608   \n",
       "17                      1.404787                               0.831618   \n",
       "\n",
       "    Explained by: Freedom to make life choices  Explained by: Generosity  \\\n",
       "7                                     0.646790                  0.325726   \n",
       "10                                    0.644028                  0.281529   \n",
       "11                                    0.621877                  0.324974   \n",
       "17                                    0.534608                  0.298143   \n",
       "\n",
       "    Explained by: Perceptions of corruption  Dystopia + residual  \n",
       "7                                  0.461268             2.128108  \n",
       "10                                 0.351702             2.195269  \n",
       "11                                 0.335996             2.129804  \n",
       "17                                 0.152285             2.344125  "
      ]
     },
     "execution_count": 21,
     "metadata": {},
     "output_type": "execute_result"
    }
   ],
   "source": [
    "happiness_by_region = df.loc[df['Regional indicator'] == 'North America and ANZ']\n",
    "happiness_by_region.head()"
   ]
  },
  {
   "cell_type": "code",
   "execution_count": 9,
   "metadata": {},
   "outputs": [
    {
     "data": {
      "text/plain": [
       "Country name                                         Finland\n",
       "Regional indicator                            Western Europe\n",
       "Ladder score                                          7.8087\n",
       "Standard error of ladder score                     0.0311563\n",
       "upperwhisker                                         7.86977\n",
       "lowerwhisker                                         7.74763\n",
       "Logged GDP per capita                                10.6393\n",
       "Social support                                       0.95433\n",
       "Healthy life expectancy                              71.9008\n",
       "Freedom to make life choices                        0.949172\n",
       "Generosity                                         -0.059482\n",
       "Perceptions of corruption                           0.195445\n",
       "Ladder score in Dystopia                             1.97232\n",
       "Explained by: Log GDP per capita                     1.28519\n",
       "Explained by: Social support                         1.49953\n",
       "Explained by: Healthy life expectancy               0.961271\n",
       "Explained by: Freedom to make life choices          0.662317\n",
       "Explained by: Generosity                             0.15967\n",
       "Explained by: Perceptions of corruption             0.477857\n",
       "Dystopia + residual                                  2.76284\n",
       "Name: 0, dtype: object"
      ]
     },
     "execution_count": 9,
     "metadata": {},
     "output_type": "execute_result"
    }
   ],
   "source": [
    "df.iloc[0]"
   ]
  },
  {
   "cell_type": "markdown",
   "metadata": {},
   "source": [
    "### There are ten unique Regional indicators and 153 unique Country names"
   ]
  },
  {
   "cell_type": "code",
   "execution_count": 10,
   "metadata": {},
   "outputs": [
    {
     "data": {
      "text/html": [
       "<div>\n",
       "<style scoped>\n",
       "    .dataframe tbody tr th:only-of-type {\n",
       "        vertical-align: middle;\n",
       "    }\n",
       "\n",
       "    .dataframe tbody tr th {\n",
       "        vertical-align: top;\n",
       "    }\n",
       "\n",
       "    .dataframe thead th {\n",
       "        text-align: right;\n",
       "    }\n",
       "</style>\n",
       "<table border=\"1\" class=\"dataframe\">\n",
       "  <thead>\n",
       "    <tr style=\"text-align: right;\">\n",
       "      <th></th>\n",
       "      <th>Country name</th>\n",
       "      <th>Regional indicator</th>\n",
       "    </tr>\n",
       "  </thead>\n",
       "  <tbody>\n",
       "    <tr>\n",
       "      <th>count</th>\n",
       "      <td>153</td>\n",
       "      <td>153</td>\n",
       "    </tr>\n",
       "    <tr>\n",
       "      <th>unique</th>\n",
       "      <td>153</td>\n",
       "      <td>10</td>\n",
       "    </tr>\n",
       "    <tr>\n",
       "      <th>top</th>\n",
       "      <td>Brazil</td>\n",
       "      <td>Sub-Saharan Africa</td>\n",
       "    </tr>\n",
       "    <tr>\n",
       "      <th>freq</th>\n",
       "      <td>1</td>\n",
       "      <td>39</td>\n",
       "    </tr>\n",
       "  </tbody>\n",
       "</table>\n",
       "</div>"
      ],
      "text/plain": [
       "       Country name  Regional indicator\n",
       "count           153                 153\n",
       "unique          153                  10\n",
       "top          Brazil  Sub-Saharan Africa\n",
       "freq              1                  39"
      ]
     },
     "execution_count": 10,
     "metadata": {},
     "output_type": "execute_result"
    }
   ],
   "source": [
    "df.describe(include='O')"
   ]
  },
  {
   "cell_type": "markdown",
   "metadata": {},
   "source": [
    "### Number of records for each region"
   ]
  },
  {
   "cell_type": "code",
   "execution_count": 28,
   "metadata": {},
   "outputs": [
    {
     "data": {
      "text/plain": [
       "Sub-Saharan Africa                    39\n",
       "Latin America and Caribbean           21\n",
       "Western Europe                        21\n",
       "Central and Eastern Europe            17\n",
       "Middle East and North Africa          17\n",
       "Commonwealth of Independent States    12\n",
       "Southeast Asia                         9\n",
       "South Asia                             7\n",
       "East Asia                              6\n",
       "North America and ANZ                  4\n",
       "Name: Regional indicator, dtype: int64"
      ]
     },
     "execution_count": 28,
     "metadata": {},
     "output_type": "execute_result"
    }
   ],
   "source": [
    "df['Regional indicator'].value_counts()\n",
    "\n",
    "# dataset contains no NaN values and does not require cleaning"
   ]
  },
  {
   "cell_type": "markdown",
   "metadata": {},
   "source": [
    "### Amount of data available per region"
   ]
  },
  {
   "cell_type": "code",
   "execution_count": 40,
   "metadata": {},
   "outputs": [
    {
     "data": {
      "text/plain": [
       "<matplotlib.axes._subplots.AxesSubplot at 0x123af6110>"
      ]
     },
     "execution_count": 40,
     "metadata": {},
     "output_type": "execute_result"
    },
    {
     "data": {
      "image/png": "[encoded data removed]",
      "text/plain": [
       "<Figure size 1440x720 with 1 Axes>"
      ]
     },
     "metadata": {
      "needs_background": "light"
     },
     "output_type": "display_data"
    }
   ],
   "source": [
    "regions = df[\"Regional indicator\"].value_counts()\n",
    "regions.sort_values(ascending=False, inplace=True)\n",
    "\n",
    "\n",
    "plt.subplots(figsize=(20,10))\n",
    "\n",
    "sns.barplot(x=regions.values, y=regions.index, order=regions.index, orient=\"h\")"
   ]
  },
  {
   "cell_type": "code",
   "execution_count": 35,
   "metadata": {},
   "outputs": [
    {
     "data": {
      "text/plain": [
       "<matplotlib.axes._subplots.AxesSubplot at 0x123aeee10>"
      ]
     },
     "execution_count": 35,
     "metadata": {},
     "output_type": "execute_result"
    },
    {
     "data": {
      "image/png": "[encoded data removed]",
      "text/plain": [
       "<Figure size 432x288 with 1 Axes>"
      ]
     },
     "metadata": {
      "needs_background": "light"
     },
     "output_type": "display_data"
    }
   ],
   "source": [
    "countries = df[\"Country name\"].value_counts()\n",
    "sns.barplot(x=regions, y=countries)"
   ]
  },
  {
   "cell_type": "code",
   "execution_count": 50,
   "metadata": {},
   "outputs": [
    {
     "data": {
      "text/html": [
       "<div>\n",
       "<style scoped>\n",
       "    .dataframe tbody tr th:only-of-type {\n",
       "        vertical-align: middle;\n",
       "    }\n",
       "\n",
       "    .dataframe tbody tr th {\n",
       "        vertical-align: top;\n",
       "    }\n",
       "\n",
       "    .dataframe thead th {\n",
       "        text-align: right;\n",
       "    }\n",
       "</style>\n",
       "<table border=\"1\" class=\"dataframe\">\n",
       "  <thead>\n",
       "    <tr style=\"text-align: right;\">\n",
       "      <th>Ladder score</th>\n",
       "      <th>2.5669</th>\n",
       "      <th>2.8166</th>\n",
       "      <th>3.2992</th>\n",
       "      <th>3.3123</th>\n",
       "      <th>3.4759</th>\n",
       "      <th>3.4762</th>\n",
       "      <th>3.4789</th>\n",
       "      <th>3.5274</th>\n",
       "      <th>3.5380</th>\n",
       "      <th>3.5733</th>\n",
       "      <th>...</th>\n",
       "      <th>7.2375</th>\n",
       "      <th>7.2942</th>\n",
       "      <th>7.2996</th>\n",
       "      <th>7.3535</th>\n",
       "      <th>7.4489</th>\n",
       "      <th>7.4880</th>\n",
       "      <th>7.5045</th>\n",
       "      <th>7.5599</th>\n",
       "      <th>7.6456</th>\n",
       "      <th>7.8087</th>\n",
       "    </tr>\n",
       "    <tr>\n",
       "      <th>Regional indicator</th>\n",
       "      <th></th>\n",
       "      <th></th>\n",
       "      <th></th>\n",
       "      <th></th>\n",
       "      <th></th>\n",
       "      <th></th>\n",
       "      <th></th>\n",
       "      <th></th>\n",
       "      <th></th>\n",
       "      <th></th>\n",
       "      <th></th>\n",
       "      <th></th>\n",
       "      <th></th>\n",
       "      <th></th>\n",
       "      <th></th>\n",
       "      <th></th>\n",
       "      <th></th>\n",
       "      <th></th>\n",
       "      <th></th>\n",
       "      <th></th>\n",
       "      <th></th>\n",
       "    </tr>\n",
       "  </thead>\n",
       "  <tbody>\n",
       "    <tr>\n",
       "      <th>Central and Eastern Europe</th>\n",
       "      <td>0</td>\n",
       "      <td>0</td>\n",
       "      <td>0</td>\n",
       "      <td>0</td>\n",
       "      <td>0</td>\n",
       "      <td>0</td>\n",
       "      <td>0</td>\n",
       "      <td>0</td>\n",
       "      <td>0</td>\n",
       "      <td>0</td>\n",
       "      <td>...</td>\n",
       "      <td>0</td>\n",
       "      <td>0</td>\n",
       "      <td>0</td>\n",
       "      <td>0</td>\n",
       "      <td>0</td>\n",
       "      <td>0</td>\n",
       "      <td>0</td>\n",
       "      <td>0</td>\n",
       "      <td>0</td>\n",
       "      <td>0</td>\n",
       "    </tr>\n",
       "    <tr>\n",
       "      <th>Commonwealth of Independent States</th>\n",
       "      <td>0</td>\n",
       "      <td>0</td>\n",
       "      <td>0</td>\n",
       "      <td>0</td>\n",
       "      <td>0</td>\n",
       "      <td>0</td>\n",
       "      <td>0</td>\n",
       "      <td>0</td>\n",
       "      <td>0</td>\n",
       "      <td>0</td>\n",
       "      <td>...</td>\n",
       "      <td>0</td>\n",
       "      <td>0</td>\n",
       "      <td>0</td>\n",
       "      <td>0</td>\n",
       "      <td>0</td>\n",
       "      <td>0</td>\n",
       "      <td>0</td>\n",
       "      <td>0</td>\n",
       "      <td>0</td>\n",
       "      <td>0</td>\n",
       "    </tr>\n",
       "    <tr>\n",
       "      <th>East Asia</th>\n",
       "      <td>0</td>\n",
       "      <td>0</td>\n",
       "      <td>0</td>\n",
       "      <td>0</td>\n",
       "      <td>0</td>\n",
       "      <td>0</td>\n",
       "      <td>0</td>\n",
       "      <td>0</td>\n",
       "      <td>0</td>\n",
       "      <td>0</td>\n",
       "      <td>...</td>\n",
       "      <td>0</td>\n",
       "      <td>0</td>\n",
       "      <td>0</td>\n",
       "      <td>0</td>\n",
       "      <td>0</td>\n",
       "      <td>0</td>\n",
       "      <td>0</td>\n",
       "      <td>0</td>\n",
       "      <td>0</td>\n",
       "      <td>0</td>\n",
       "    </tr>\n",
       "    <tr>\n",
       "      <th>Latin America and Caribbean</th>\n",
       "      <td>0</td>\n",
       "      <td>0</td>\n",
       "      <td>0</td>\n",
       "      <td>0</td>\n",
       "      <td>0</td>\n",
       "      <td>0</td>\n",
       "      <td>0</td>\n",
       "      <td>0</td>\n",
       "      <td>0</td>\n",
       "      <td>0</td>\n",
       "      <td>...</td>\n",
       "      <td>0</td>\n",
       "      <td>0</td>\n",
       "      <td>0</td>\n",
       "      <td>0</td>\n",
       "      <td>0</td>\n",
       "      <td>0</td>\n",
       "      <td>0</td>\n",
       "      <td>0</td>\n",
       "      <td>0</td>\n",
       "      <td>0</td>\n",
       "    </tr>\n",
       "    <tr>\n",
       "      <th>Middle East and North Africa</th>\n",
       "      <td>0</td>\n",
       "      <td>0</td>\n",
       "      <td>0</td>\n",
       "      <td>0</td>\n",
       "      <td>0</td>\n",
       "      <td>0</td>\n",
       "      <td>0</td>\n",
       "      <td>1</td>\n",
       "      <td>0</td>\n",
       "      <td>0</td>\n",
       "      <td>...</td>\n",
       "      <td>0</td>\n",
       "      <td>0</td>\n",
       "      <td>0</td>\n",
       "      <td>0</td>\n",
       "      <td>0</td>\n",
       "      <td>0</td>\n",
       "      <td>0</td>\n",
       "      <td>0</td>\n",
       "      <td>0</td>\n",
       "      <td>0</td>\n",
       "    </tr>\n",
       "    <tr>\n",
       "      <th>North America and ANZ</th>\n",
       "      <td>0</td>\n",
       "      <td>0</td>\n",
       "      <td>0</td>\n",
       "      <td>0</td>\n",
       "      <td>0</td>\n",
       "      <td>0</td>\n",
       "      <td>0</td>\n",
       "      <td>0</td>\n",
       "      <td>0</td>\n",
       "      <td>0</td>\n",
       "      <td>...</td>\n",
       "      <td>0</td>\n",
       "      <td>0</td>\n",
       "      <td>1</td>\n",
       "      <td>0</td>\n",
       "      <td>0</td>\n",
       "      <td>0</td>\n",
       "      <td>0</td>\n",
       "      <td>0</td>\n",
       "      <td>0</td>\n",
       "      <td>0</td>\n",
       "    </tr>\n",
       "    <tr>\n",
       "      <th>South Asia</th>\n",
       "      <td>1</td>\n",
       "      <td>0</td>\n",
       "      <td>0</td>\n",
       "      <td>0</td>\n",
       "      <td>0</td>\n",
       "      <td>0</td>\n",
       "      <td>0</td>\n",
       "      <td>0</td>\n",
       "      <td>0</td>\n",
       "      <td>1</td>\n",
       "      <td>...</td>\n",
       "      <td>0</td>\n",
       "      <td>0</td>\n",
       "      <td>0</td>\n",
       "      <td>0</td>\n",
       "      <td>0</td>\n",
       "      <td>0</td>\n",
       "      <td>0</td>\n",
       "      <td>0</td>\n",
       "      <td>0</td>\n",
       "      <td>0</td>\n",
       "    </tr>\n",
       "    <tr>\n",
       "      <th>Southeast Asia</th>\n",
       "      <td>0</td>\n",
       "      <td>0</td>\n",
       "      <td>0</td>\n",
       "      <td>0</td>\n",
       "      <td>0</td>\n",
       "      <td>0</td>\n",
       "      <td>0</td>\n",
       "      <td>0</td>\n",
       "      <td>0</td>\n",
       "      <td>0</td>\n",
       "      <td>...</td>\n",
       "      <td>0</td>\n",
       "      <td>0</td>\n",
       "      <td>0</td>\n",
       "      <td>0</td>\n",
       "      <td>0</td>\n",
       "      <td>0</td>\n",
       "      <td>0</td>\n",
       "      <td>0</td>\n",
       "      <td>0</td>\n",
       "      <td>0</td>\n",
       "    </tr>\n",
       "    <tr>\n",
       "      <th>Sub-Saharan Africa</th>\n",
       "      <td>0</td>\n",
       "      <td>1</td>\n",
       "      <td>1</td>\n",
       "      <td>1</td>\n",
       "      <td>1</td>\n",
       "      <td>1</td>\n",
       "      <td>1</td>\n",
       "      <td>0</td>\n",
       "      <td>1</td>\n",
       "      <td>0</td>\n",
       "      <td>...</td>\n",
       "      <td>0</td>\n",
       "      <td>0</td>\n",
       "      <td>0</td>\n",
       "      <td>0</td>\n",
       "      <td>0</td>\n",
       "      <td>0</td>\n",
       "      <td>0</td>\n",
       "      <td>0</td>\n",
       "      <td>0</td>\n",
       "      <td>0</td>\n",
       "    </tr>\n",
       "    <tr>\n",
       "      <th>Western Europe</th>\n",
       "      <td>0</td>\n",
       "      <td>0</td>\n",
       "      <td>0</td>\n",
       "      <td>0</td>\n",
       "      <td>0</td>\n",
       "      <td>0</td>\n",
       "      <td>0</td>\n",
       "      <td>0</td>\n",
       "      <td>0</td>\n",
       "      <td>0</td>\n",
       "      <td>...</td>\n",
       "      <td>1</td>\n",
       "      <td>1</td>\n",
       "      <td>0</td>\n",
       "      <td>1</td>\n",
       "      <td>1</td>\n",
       "      <td>1</td>\n",
       "      <td>1</td>\n",
       "      <td>1</td>\n",
       "      <td>1</td>\n",
       "      <td>1</td>\n",
       "    </tr>\n",
       "  </tbody>\n",
       "</table>\n",
       "<p>10 rows × 153 columns</p>\n",
       "</div>"
      ],
      "text/plain": [
       "Ladder score                        2.5669  2.8166  3.2992  3.3123  3.4759  \\\n",
       "Regional indicator                                                           \n",
       "Central and Eastern Europe               0       0       0       0       0   \n",
       "Commonwealth of Independent States       0       0       0       0       0   \n",
       "East Asia                                0       0       0       0       0   \n",
       "Latin America and Caribbean              0       0       0       0       0   \n",
       "Middle East and North Africa             0       0       0       0       0   \n",
       "North America and ANZ                    0       0       0       0       0   \n",
       "South Asia                               1       0       0       0       0   \n",
       "Southeast Asia                           0       0       0       0       0   \n",
       "Sub-Saharan Africa                       0       1       1       1       1   \n",
       "Western Europe                           0       0       0       0       0   \n",
       "\n",
       "Ladder score                        3.4762  3.4789  3.5274  3.5380  3.5733  \\\n",
       "Regional indicator                                                           \n",
       "Central and Eastern Europe               0       0       0       0       0   \n",
       "Commonwealth of Independent States       0       0       0       0       0   \n",
       "East Asia                                0       0       0       0       0   \n",
       "Latin America and Caribbean              0       0       0       0       0   \n",
       "Middle East and North Africa             0       0       1       0       0   \n",
       "North America and ANZ                    0       0       0       0       0   \n",
       "South Asia                               0       0       0       0       1   \n",
       "Southeast Asia                           0       0       0       0       0   \n",
       "Sub-Saharan Africa                       1       1       0       1       0   \n",
       "Western Europe                           0       0       0       0       0   \n",
       "\n",
       "Ladder score                        ...  7.2375  7.2942  7.2996  7.3535  \\\n",
       "Regional indicator                  ...                                   \n",
       "Central and Eastern Europe          ...       0       0       0       0   \n",
       "Commonwealth of Independent States  ...       0       0       0       0   \n",
       "East Asia                           ...       0       0       0       0   \n",
       "Latin America and Caribbean         ...       0       0       0       0   \n",
       "Middle East and North Africa        ...       0       0       0       0   \n",
       "North America and ANZ               ...       0       0       1       0   \n",
       "South Asia                          ...       0       0       0       0   \n",
       "Southeast Asia                      ...       0       0       0       0   \n",
       "Sub-Saharan Africa                  ...       0       0       0       0   \n",
       "Western Europe                      ...       1       1       0       1   \n",
       "\n",
       "Ladder score                        7.4489  7.4880  7.5045  7.5599  7.6456  \\\n",
       "Regional indicator                                                           \n",
       "Central and Eastern Europe               0       0       0       0       0   \n",
       "Commonwealth of Independent States       0       0       0       0       0   \n",
       "East Asia                                0       0       0       0       0   \n",
       "Latin America and Caribbean              0       0       0       0       0   \n",
       "Middle East and North Africa             0       0       0       0       0   \n",
       "North America and ANZ                    0       0       0       0       0   \n",
       "South Asia                               0       0       0       0       0   \n",
       "Southeast Asia                           0       0       0       0       0   \n",
       "Sub-Saharan Africa                       0       0       0       0       0   \n",
       "Western Europe                           1       1       1       1       1   \n",
       "\n",
       "Ladder score                        7.8087  \n",
       "Regional indicator                          \n",
       "Central and Eastern Europe               0  \n",
       "Commonwealth of Independent States       0  \n",
       "East Asia                                0  \n",
       "Latin America and Caribbean              0  \n",
       "Middle East and North Africa             0  \n",
       "North America and ANZ                    0  \n",
       "South Asia                               0  \n",
       "Southeast Asia                           0  \n",
       "Sub-Saharan Africa                       0  \n",
       "Western Europe                           1  \n",
       "\n",
       "[10 rows x 153 columns]"
      ]
     },
     "execution_count": 50,
     "metadata": {},
     "output_type": "execute_result"
    }
   ],
   "source": [
    "pd.crosstab(df['Regional indicator'], df['Ladder score'])"
   ]
  },
  {
   "cell_type": "code",
   "execution_count": 58,
   "metadata": {},
   "outputs": [
    {
     "data": {
      "text/plain": [
       "([<matplotlib.patches.Wedge at 0x1242ae590>,\n",
       "  <matplotlib.patches.Wedge at 0x1242ae950>,\n",
       "  <matplotlib.patches.Wedge at 0x1242b92d0>,\n",
       "  <matplotlib.patches.Wedge at 0x1242b9c10>,\n",
       "  <matplotlib.patches.Wedge at 0x1242c2c10>,\n",
       "  <matplotlib.patches.Wedge at 0x1242cc590>,\n",
       "  <matplotlib.patches.Wedge at 0x1242cc950>,\n",
       "  <matplotlib.patches.Wedge at 0x1242d62d0>,\n",
       "  <matplotlib.patches.Wedge at 0x1242c25d0>,\n",
       "  <matplotlib.patches.Wedge at 0x1242c2f90>],\n",
       " [Text(0.7657473043154236, 0.7897031505152187, '39'),\n",
       "  Text(-0.49031230252732855, 0.9846795651329165, '21'),\n",
       "  Text(-1.0667766712597773, 0.268304926633689, '21'),\n",
       "  Text(-0.9469310848572637, -0.5597513023933448, '17'),\n",
       "  Text(-0.3655900884908006, -1.0374699452019267, '17'),\n",
       "  Text(0.27924318194629744, -1.0639658102291196, '12'),\n",
       "  Text(0.6983782581777012, -0.8498634057921781, '9'),\n",
       "  Text(0.9352389700947302, -0.5790751840790178, '7'),\n",
       "  Text(1.0548620104022655, -0.31187519781170614, '6'),\n",
       "  Text(1.0962918861357278, -0.09024466960972555, '4')])"
      ]
     },
     "execution_count": 58,
     "metadata": {},
     "output_type": "execute_result"
    },
    {
     "data": {
      "image/png": "[encoded data removed]",
      "text/plain": [
       "<Figure size 432x288 with 1 Axes>"
      ]
     },
     "metadata": {},
     "output_type": "display_data"
    }
   ],
   "source": [
    "df.dropna()\n",
    "\n",
    "LABELS = regions\n",
    "\n",
    "plt.pie(regions.values, labels=LABELS, shadow=True)"
   ]
  },
  {
   "cell_type": "markdown",
   "metadata": {},
   "source": [
    "## Average Happiness of the World"
   ]
  },
  {
   "cell_type": "code",
   "execution_count": 42,
   "metadata": {},
   "outputs": [
    {
     "data": {
      "text/plain": [
       "5.473239862849674"
      ]
     },
     "execution_count": 42,
     "metadata": {},
     "output_type": "execute_result"
    }
   ],
   "source": [
    "df['Ladder score'].mean()\n"
   ]
  },
  {
   "cell_type": "markdown",
   "metadata": {},
   "source": [
    "On a scale of one to ten, the avarage happiness score for the world is approximately 5.5."
   ]
  },
  {
   "cell_type": "markdown",
   "metadata": {},
   "source": [
    "## Questions\n",
    "\n",
    "Where (Region, Country) are the highest happiness scores in the world found?<br>\n",
    "Where (Region, Country) are the highest happiness scores in the world found?<br>\n",
    "What are the contributing factors to happiness in specific regions? Countries?<br>\n",
    "Could happiness scores in low-scoring areas be improved by changing the contributing factors?\n",
    "<hr>"
   ]
  },
  {
   "cell_type": "code",
   "execution_count": 77,
   "metadata": {},
   "outputs": [
    {
     "ename": "SyntaxError",
     "evalue": "invalid syntax (<ipython-input-77-3ed484f94315>, line 23)",
     "output_type": "error",
     "traceback": [
      "\u001b[0;36m  File \u001b[0;32m\"<ipython-input-77-3ed484f94315>\"\u001b[0;36m, line \u001b[0;32m23\u001b[0m\n\u001b[0;31m    ((else \"Content\" if (x >= 6 and x < 8)\u001b[0m\n\u001b[0m         ^\u001b[0m\n\u001b[0;31mSyntaxError\u001b[0m\u001b[0;31m:\u001b[0m invalid syntax\n"
     ]
    }
   ],
   "source": [
    "# define new column for categories\n",
    "# ...\n",
    "\n",
    "# def sort_scores(scores = df['Ladder score']):\n",
    "#     for score in scores:\n",
    "#         score = int(score)\n",
    "#         category_list = []\n",
    "#         if score >= 8:\n",
    "#             category_list.append('Happy')\n",
    "#         elif score >= 6 and score <=8:\n",
    "#             category_list.append('Content')\n",
    "#         elif score >=4 and score <= 6:\n",
    "#             category_list.append('Discontent')\n",
    "#         elif score >= 0 and score <= 4:\n",
    "#             category_list.append('Unhappy')\n",
    "            \n",
    "#     return category_list\n",
    "        \n",
    "# # df['Category'] = sort_scores()\n",
    "# print(sort_scores())\n",
    "\n",
    "df[\"Catagory\"] = df['Ladder score'].apply(lambda x: \"Happy\" if (x >= 8) \n",
    "                                             ((else \"Content\" if (x >= 6 and x < 8)\n",
    "                                              (else \"Discontent\" if (x >= 4 and x < 6)\n",
    "                                                 else \"Unhappy\")))\n",
    "\n",
    "df['Catagory'].value_counts().plot(kind='pie')\n",
    "df['Catagory'].value_counts()"
   ]
  },
  {
   "cell_type": "markdown",
   "metadata": {},
   "source": [
    "> !"
   ]
  },
  {
   "cell_type": "code",
   "execution_count": 62,
   "metadata": {},
   "outputs": [
    {
     "data": {
      "text/plain": [
       "<matplotlib.axes._subplots.AxesSubplot at 0x12437a590>"
      ]
     },
     "execution_count": 62,
     "metadata": {},
     "output_type": "execute_result"
    },
    {
     "data": {
      "image/png": "[encoded data removed]",
      "text/plain": [
       "<Figure size 432x288 with 1 Axes>"
      ]
     },
     "metadata": {
      "needs_background": "light"
     },
     "output_type": "display_data"
    }
   ],
   "source": [
    "df['Ladder score'].hist(bins=20)"
   ]
  },
  {
   "cell_type": "markdown",
   "metadata": {},
   "source": [
    "## The output below shows us something of interest. No participating country or region rated themselves as actually 'Happy', as it's been defined in this analysis"
   ]
  },
  {
   "cell_type": "code",
   "execution_count": 68,
   "metadata": {},
   "outputs": [
    {
     "data": {
      "text/plain": [
       "array([7.80870008, 7.64559984, 7.55989981, 7.50449991, 7.48799992,\n",
       "       7.44890022, 7.35349989, 7.29960012, 7.29419994, 7.23750019,\n",
       "       7.23210001, 7.22279978, 7.16450024, 7.12860012, 7.12139988,\n",
       "       7.09369993, 7.07579994, 6.93959999, 6.91090012, 6.86350012,\n",
       "       6.79080009, 6.77279997, 6.66379976, 6.46500015, 6.45539999,\n",
       "       6.44010019, 6.40649986, 6.40089989, 6.39890003, 6.38740015,\n",
       "       6.37709999, 6.37559986, 6.36339998, 6.34829998, 6.32520008,\n",
       "       6.30480003, 6.28060007, 6.25759983, 6.22849989, 6.22730017,\n",
       "       6.21549988, 6.19189978, 6.1862998 , 6.16340017, 6.15899992,\n",
       "       6.13710022, 6.12370014, 6.1020999 , 6.10129976, 6.05789995,\n",
       "       6.02180004, 6.00600004, 6.00040007, 5.9987998 , 5.97469997,\n",
       "       5.95319986, 5.94999981, 5.92519999, 5.91090012, 5.88980007,\n",
       "       5.87239981, 5.87080002, 5.79680014, 5.77820015, 5.74749994,\n",
       "       5.69329977, 5.69210005, 5.68919992, 5.67409992, 5.60750008,\n",
       "       5.55569982, 5.54610014, 5.546     , 5.54150009, 5.53989983,\n",
       "       5.53550005, 5.51499987, 5.51039982, 5.50470018, 5.48880005,\n",
       "       5.45620012, 5.38430023, 5.35349989, 5.28560018, 5.23330021,\n",
       "       5.21600008, 5.19759989, 5.19439983, 5.16480017, 5.15980005,\n",
       "       5.14799976, 5.13719988, 5.13180018, 5.12389994, 5.11910009,\n",
       "       5.10150003, 5.09479999, 5.0848999 , 5.05319977, 5.00509977,\n",
       "       4.98080015, 4.94929981, 4.90959978, 4.88859987, 4.88269997,\n",
       "       4.84840012, 4.83279991, 4.82929993, 4.81409979, 4.78480005,\n",
       "       4.77150011, 4.76870012, 4.75059986, 4.72930002, 4.72410011,\n",
       "       4.67679977, 4.67259979, 4.6724    , 4.63339996, 4.62360001,\n",
       "       4.58300018, 4.57110024, 4.56069994, 4.55789995, 4.55280018,\n",
       "       4.43200016, 4.42269993, 4.39219999, 4.37459993, 4.32700014,\n",
       "       4.31099987, 4.30810022, 4.30800009, 4.28859997, 4.18720007,\n",
       "       4.18620014, 4.16559982, 4.15140009, 3.92639995, 3.77530003,\n",
       "       3.75939989, 3.72079992, 3.65280008, 3.57329988, 3.53800011,\n",
       "       3.52740002, 3.47889996, 3.4762001 , 3.47589994, 3.31229997,\n",
       "       3.29920006, 2.81660008, 2.56690001])"
      ]
     },
     "execution_count": 68,
     "metadata": {},
     "output_type": "execute_result"
    }
   ],
   "source": [
    "df['Ladder score'].unique()"
   ]
  },
  {
   "cell_type": "code",
   "execution_count": 69,
   "metadata": {},
   "outputs": [
    {
     "name": "stdout",
     "output_type": "stream",
     "text": [
      "153\n"
     ]
    }
   ],
   "source": [
    "print(len(df['Ladder score'].unique()))"
   ]
  },
  {
   "cell_type": "code",
   "execution_count": 70,
   "metadata": {},
   "outputs": [
    {
     "data": {
      "text/plain": [
       "<matplotlib.axes._subplots.AxesSubplot at 0x124415950>"
      ]
     },
     "execution_count": 70,
     "metadata": {},
     "output_type": "execute_result"
    },
    {
     "data": {
      "image/png": "[encoded data removed]",
      "text/plain": [
       "<Figure size 432x288 with 1 Axes>"
      ]
     },
     "metadata": {
      "needs_background": "light"
     },
     "output_type": "display_data"
    }
   ],
   "source": [
    "df['Ladder score'].plot.box()\n",
    "\n",
    "# no outliers"
   ]
  },
  {
   "cell_type": "markdown",
   "metadata": {},
   "source": [
    "## Analysis of overall happiness in relation to freedom to make life choices, by region."
   ]
  },
  {
   "cell_type": "code",
   "execution_count": 81,
   "metadata": {},
   "outputs": [
    {
     "data": {
      "text/plain": [
       "Regional indicator\n",
       "Latin America and Caribbean     AxesSubplot(0.125,0.125;0.775x0.755)\n",
       "Middle East and North Africa    AxesSubplot(0.125,0.125;0.775x0.755)\n",
       "South Asia                      AxesSubplot(0.125,0.125;0.775x0.755)\n",
       "Sub-Saharan Africa              AxesSubplot(0.125,0.125;0.775x0.755)\n",
       "Name: Freedom to make life choices, dtype: object"
      ]
     },
     "execution_count": 81,
     "metadata": {},
     "output_type": "execute_result"
    },
    {
     "data": {
      "image/png": "[encoded data removed]",
      "text/plain": [
       "<Figure size 432x288 with 1 Axes>"
      ]
     },
     "metadata": {
      "needs_background": "light"
     },
     "output_type": "display_data"
    }
   ],
   "source": [
    "df[df['Ladder score'] <= 4].groupby('Regional indicator')['Freedom to make life choices'].plot(bins=16, kind='hist', legend=True, alpha=0.5)"
   ]
  },
  {
   "cell_type": "markdown",
   "metadata": {},
   "source": [
    "from the above analysis we can see that most of the scores that can be classified as 'Unhappy', are in four regions\n",
    ">Latin America and Caribbean<br>\n",
    ">Middle East and North Africa<br>\n",
    ">South Asia<br>\n",
    ">Sub-Saharan Africa<br>\n",
    "\n",
    "with Sub-Saharan Africa being only slightly less unhappy, despite rating their 'Freedom to make life choices' in the 'Content' or 'Happy' range\n"
   ]
  },
  {
   "cell_type": "code",
   "execution_count": 83,
   "metadata": {},
   "outputs": [
    {
     "data": {
      "text/plain": [
       "Regional indicator\n",
       "Central and Eastern Europe            AxesSubplot(0.125,0.125;0.775x0.755)\n",
       "Commonwealth of Independent States    AxesSubplot(0.125,0.125;0.775x0.755)\n",
       "East Asia                             AxesSubplot(0.125,0.125;0.775x0.755)\n",
       "Latin America and Caribbean           AxesSubplot(0.125,0.125;0.775x0.755)\n",
       "Middle East and North Africa          AxesSubplot(0.125,0.125;0.775x0.755)\n",
       "North America and ANZ                 AxesSubplot(0.125,0.125;0.775x0.755)\n",
       "Southeast Asia                        AxesSubplot(0.125,0.125;0.775x0.755)\n",
       "Sub-Saharan Africa                    AxesSubplot(0.125,0.125;0.775x0.755)\n",
       "Western Europe                        AxesSubplot(0.125,0.125;0.775x0.755)\n",
       "Name: Freedom to make life choices, dtype: object"
      ]
     },
     "execution_count": 83,
     "metadata": {},
     "output_type": "execute_result"
    },
    {
     "data": {
      "image/png": "[encoded data removed]",
      "text/plain": [
       "<Figure size 432x288 with 1 Axes>"
      ]
     },
     "metadata": {
      "needs_background": "light"
     },
     "output_type": "display_data"
    }
   ],
   "source": [
    "df[df['Ladder score'] >= 6].groupby('Regional indicator')['Freedom to make life choices'].plot(bins=16, kind='hist', legend=True, alpha=0.5)"
   ]
  },
  {
   "cell_type": "markdown",
   "metadata": {},
   "source": [
    "Of those regions who rate themselves as 'Content', as defined by this analysis, Western Europe shows the highest correlation between happiness and freedom to make life choices"
   ]
  },
  {
   "cell_type": "code",
   "execution_count": 89,
   "metadata": {},
   "outputs": [
    {
     "ename": "ValueError",
     "evalue": "'label' must be of length 'x'",
     "output_type": "error",
     "traceback": [
      "\u001b[0;31m---------------------------------------------------------------------------\u001b[0m",
      "\u001b[0;31mValueError\u001b[0m                                Traceback (most recent call last)",
      "\u001b[0;32m<ipython-input-89-7948630b0121>\u001b[0m in \u001b[0;36m<module>\u001b[0;34m\u001b[0m\n\u001b[0;32m----> 1\u001b[0;31m \u001b[0mplt\u001b[0m\u001b[0;34m.\u001b[0m\u001b[0mpie\u001b[0m\u001b[0;34m(\u001b[0m\u001b[0mdf\u001b[0m\u001b[0;34m[\u001b[0m\u001b[0;34m'Freedom to make life choices'\u001b[0m\u001b[0;34m]\u001b[0m\u001b[0;34m,\u001b[0m \u001b[0mlabels\u001b[0m\u001b[0;34m=\u001b[0m\u001b[0mdf\u001b[0m\u001b[0;34m.\u001b[0m\u001b[0mgroupby\u001b[0m\u001b[0;34m(\u001b[0m\u001b[0;34m[\u001b[0m\u001b[0;34m'Regional indicator'\u001b[0m\u001b[0;34m]\u001b[0m\u001b[0;34m)\u001b[0m\u001b[0;34m,\u001b[0m \u001b[0mshadow\u001b[0m\u001b[0;34m=\u001b[0m\u001b[0;32mTrue\u001b[0m\u001b[0;34m)\u001b[0m\u001b[0;34m\u001b[0m\u001b[0;34m\u001b[0m\u001b[0m\n\u001b[0m",
      "\u001b[0;32m/usr/local/lib/python3.7/site-packages/matplotlib/pyplot.py\u001b[0m in \u001b[0;36mpie\u001b[0;34m(x, explode, labels, colors, autopct, pctdistance, shadow, labeldistance, startangle, radius, counterclock, wedgeprops, textprops, center, frame, rotatelabels, data)\u001b[0m\n\u001b[1;32m   2753\u001b[0m         \u001b[0mwedgeprops\u001b[0m\u001b[0;34m=\u001b[0m\u001b[0mwedgeprops\u001b[0m\u001b[0;34m,\u001b[0m \u001b[0mtextprops\u001b[0m\u001b[0;34m=\u001b[0m\u001b[0mtextprops\u001b[0m\u001b[0;34m,\u001b[0m \u001b[0mcenter\u001b[0m\u001b[0;34m=\u001b[0m\u001b[0mcenter\u001b[0m\u001b[0;34m,\u001b[0m\u001b[0;34m\u001b[0m\u001b[0;34m\u001b[0m\u001b[0m\n\u001b[1;32m   2754\u001b[0m         frame=frame, rotatelabels=rotatelabels, **({\"data\": data} if\n\u001b[0;32m-> 2755\u001b[0;31m         data is not None else {}))\n\u001b[0m\u001b[1;32m   2756\u001b[0m \u001b[0;34m\u001b[0m\u001b[0m\n\u001b[1;32m   2757\u001b[0m \u001b[0;34m\u001b[0m\u001b[0m\n",
      "\u001b[0;32m/usr/local/lib/python3.7/site-packages/matplotlib/__init__.py\u001b[0m in \u001b[0;36minner\u001b[0;34m(ax, data, *args, **kwargs)\u001b[0m\n\u001b[1;32m   1563\u001b[0m     \u001b[0;32mdef\u001b[0m \u001b[0minner\u001b[0m\u001b[0;34m(\u001b[0m\u001b[0max\u001b[0m\u001b[0;34m,\u001b[0m \u001b[0;34m*\u001b[0m\u001b[0margs\u001b[0m\u001b[0;34m,\u001b[0m \u001b[0mdata\u001b[0m\u001b[0;34m=\u001b[0m\u001b[0;32mNone\u001b[0m\u001b[0;34m,\u001b[0m \u001b[0;34m**\u001b[0m\u001b[0mkwargs\u001b[0m\u001b[0;34m)\u001b[0m\u001b[0;34m:\u001b[0m\u001b[0;34m\u001b[0m\u001b[0;34m\u001b[0m\u001b[0m\n\u001b[1;32m   1564\u001b[0m         \u001b[0;32mif\u001b[0m \u001b[0mdata\u001b[0m \u001b[0;32mis\u001b[0m \u001b[0;32mNone\u001b[0m\u001b[0;34m:\u001b[0m\u001b[0;34m\u001b[0m\u001b[0;34m\u001b[0m\u001b[0m\n\u001b[0;32m-> 1565\u001b[0;31m             \u001b[0;32mreturn\u001b[0m \u001b[0mfunc\u001b[0m\u001b[0;34m(\u001b[0m\u001b[0max\u001b[0m\u001b[0;34m,\u001b[0m \u001b[0;34m*\u001b[0m\u001b[0mmap\u001b[0m\u001b[0;34m(\u001b[0m\u001b[0msanitize_sequence\u001b[0m\u001b[0;34m,\u001b[0m \u001b[0margs\u001b[0m\u001b[0;34m)\u001b[0m\u001b[0;34m,\u001b[0m \u001b[0;34m**\u001b[0m\u001b[0mkwargs\u001b[0m\u001b[0;34m)\u001b[0m\u001b[0;34m\u001b[0m\u001b[0;34m\u001b[0m\u001b[0m\n\u001b[0m\u001b[1;32m   1566\u001b[0m \u001b[0;34m\u001b[0m\u001b[0m\n\u001b[1;32m   1567\u001b[0m         \u001b[0mbound\u001b[0m \u001b[0;34m=\u001b[0m \u001b[0mnew_sig\u001b[0m\u001b[0;34m.\u001b[0m\u001b[0mbind\u001b[0m\u001b[0;34m(\u001b[0m\u001b[0max\u001b[0m\u001b[0;34m,\u001b[0m \u001b[0;34m*\u001b[0m\u001b[0margs\u001b[0m\u001b[0;34m,\u001b[0m \u001b[0;34m**\u001b[0m\u001b[0mkwargs\u001b[0m\u001b[0;34m)\u001b[0m\u001b[0;34m\u001b[0m\u001b[0;34m\u001b[0m\u001b[0m\n",
      "\u001b[0;32m/usr/local/lib/python3.7/site-packages/matplotlib/axes/_axes.py\u001b[0m in \u001b[0;36mpie\u001b[0;34m(self, x, explode, labels, colors, autopct, pctdistance, shadow, labeldistance, startangle, radius, counterclock, wedgeprops, textprops, center, frame, rotatelabels)\u001b[0m\n\u001b[1;32m   2926\u001b[0m             \u001b[0mexplode\u001b[0m \u001b[0;34m=\u001b[0m \u001b[0;34m[\u001b[0m\u001b[0;36m0\u001b[0m\u001b[0;34m]\u001b[0m \u001b[0;34m*\u001b[0m \u001b[0mlen\u001b[0m\u001b[0;34m(\u001b[0m\u001b[0mx\u001b[0m\u001b[0;34m)\u001b[0m\u001b[0;34m\u001b[0m\u001b[0;34m\u001b[0m\u001b[0m\n\u001b[1;32m   2927\u001b[0m         \u001b[0;32mif\u001b[0m \u001b[0mlen\u001b[0m\u001b[0;34m(\u001b[0m\u001b[0mx\u001b[0m\u001b[0;34m)\u001b[0m \u001b[0;34m!=\u001b[0m \u001b[0mlen\u001b[0m\u001b[0;34m(\u001b[0m\u001b[0mlabels\u001b[0m\u001b[0;34m)\u001b[0m\u001b[0;34m:\u001b[0m\u001b[0;34m\u001b[0m\u001b[0;34m\u001b[0m\u001b[0m\n\u001b[0;32m-> 2928\u001b[0;31m             \u001b[0;32mraise\u001b[0m \u001b[0mValueError\u001b[0m\u001b[0;34m(\u001b[0m\u001b[0;34m\"'label' must be of length 'x'\"\u001b[0m\u001b[0;34m)\u001b[0m\u001b[0;34m\u001b[0m\u001b[0;34m\u001b[0m\u001b[0m\n\u001b[0m\u001b[1;32m   2929\u001b[0m         \u001b[0;32mif\u001b[0m \u001b[0mlen\u001b[0m\u001b[0;34m(\u001b[0m\u001b[0mx\u001b[0m\u001b[0;34m)\u001b[0m \u001b[0;34m!=\u001b[0m \u001b[0mlen\u001b[0m\u001b[0;34m(\u001b[0m\u001b[0mexplode\u001b[0m\u001b[0;34m)\u001b[0m\u001b[0;34m:\u001b[0m\u001b[0;34m\u001b[0m\u001b[0;34m\u001b[0m\u001b[0m\n\u001b[1;32m   2930\u001b[0m             \u001b[0;32mraise\u001b[0m \u001b[0mValueError\u001b[0m\u001b[0;34m(\u001b[0m\u001b[0;34m\"'explode' must be of length 'x'\"\u001b[0m\u001b[0;34m)\u001b[0m\u001b[0;34m\u001b[0m\u001b[0;34m\u001b[0m\u001b[0m\n",
      "\u001b[0;31mValueError\u001b[0m: 'label' must be of length 'x'"
     ]
    },
    {
     "data": {
      "image/png": "[encoded data removed]",
      "text/plain": [
       "<Figure size 432x288 with 1 Axes>"
      ]
     },
     "metadata": {
      "needs_background": "light"
     },
     "output_type": "display_data"
    }
   ],
   "source": [
    "plt.pie(df['Freedom to make life choices'], labels=df.groupby(['Regional indicator']), shadow=True)"
   ]
  },
  {
   "cell_type": "markdown",
   "metadata": {},
   "source": [
    "## Top 10 highest rated for freedom to make life choices"
   ]
  },
  {
   "cell_type": "code",
   "execution_count": 93,
   "metadata": {},
   "outputs": [
    {
     "data": {
      "text/html": [
       "<div>\n",
       "<style scoped>\n",
       "    .dataframe tbody tr th:only-of-type {\n",
       "        vertical-align: middle;\n",
       "    }\n",
       "\n",
       "    .dataframe tbody tr th {\n",
       "        vertical-align: top;\n",
       "    }\n",
       "\n",
       "    .dataframe thead th {\n",
       "        text-align: right;\n",
       "    }\n",
       "</style>\n",
       "<table border=\"1\" class=\"dataframe\">\n",
       "  <thead>\n",
       "    <tr style=\"text-align: right;\">\n",
       "      <th></th>\n",
       "      <th>Country name</th>\n",
       "      <th>Regional indicator</th>\n",
       "      <th>Ladder score</th>\n",
       "      <th>Standard error of ladder score</th>\n",
       "      <th>upperwhisker</th>\n",
       "      <th>lowerwhisker</th>\n",
       "      <th>Logged GDP per capita</th>\n",
       "      <th>Social support</th>\n",
       "      <th>Healthy life expectancy</th>\n",
       "      <th>Freedom to make life choices</th>\n",
       "      <th>Generosity</th>\n",
       "      <th>Perceptions of corruption</th>\n",
       "      <th>Ladder score in Dystopia</th>\n",
       "      <th>Explained by: Log GDP per capita</th>\n",
       "      <th>Explained by: Social support</th>\n",
       "      <th>Explained by: Healthy life expectancy</th>\n",
       "      <th>Explained by: Freedom to make life choices</th>\n",
       "      <th>Explained by: Generosity</th>\n",
       "      <th>Explained by: Perceptions of corruption</th>\n",
       "      <th>Dystopia + residual</th>\n",
       "    </tr>\n",
       "  </thead>\n",
       "  <tbody>\n",
       "    <tr>\n",
       "      <th>0</th>\n",
       "      <td>Finland</td>\n",
       "      <td>Western Europe</td>\n",
       "      <td>7.8087</td>\n",
       "      <td>0.031156</td>\n",
       "      <td>7.869766</td>\n",
       "      <td>7.747634</td>\n",
       "      <td>10.639267</td>\n",
       "      <td>0.954330</td>\n",
       "      <td>71.900825</td>\n",
       "      <td>0.949172</td>\n",
       "      <td>-0.059482</td>\n",
       "      <td>0.195445</td>\n",
       "      <td>1.972317</td>\n",
       "      <td>1.285190</td>\n",
       "      <td>1.499526</td>\n",
       "      <td>0.961271</td>\n",
       "      <td>0.662317</td>\n",
       "      <td>0.159670</td>\n",
       "      <td>0.477857</td>\n",
       "      <td>2.762835</td>\n",
       "    </tr>\n",
       "    <tr>\n",
       "      <th>1</th>\n",
       "      <td>Denmark</td>\n",
       "      <td>Western Europe</td>\n",
       "      <td>7.6456</td>\n",
       "      <td>0.033492</td>\n",
       "      <td>7.711245</td>\n",
       "      <td>7.579955</td>\n",
       "      <td>10.774001</td>\n",
       "      <td>0.955991</td>\n",
       "      <td>72.402504</td>\n",
       "      <td>0.951444</td>\n",
       "      <td>0.066202</td>\n",
       "      <td>0.168489</td>\n",
       "      <td>1.972317</td>\n",
       "      <td>1.326949</td>\n",
       "      <td>1.503449</td>\n",
       "      <td>0.979333</td>\n",
       "      <td>0.665040</td>\n",
       "      <td>0.242793</td>\n",
       "      <td>0.495260</td>\n",
       "      <td>2.432741</td>\n",
       "    </tr>\n",
       "    <tr>\n",
       "      <th>2</th>\n",
       "      <td>Switzerland</td>\n",
       "      <td>Western Europe</td>\n",
       "      <td>7.5599</td>\n",
       "      <td>0.035014</td>\n",
       "      <td>7.628528</td>\n",
       "      <td>7.491272</td>\n",
       "      <td>10.979933</td>\n",
       "      <td>0.942847</td>\n",
       "      <td>74.102448</td>\n",
       "      <td>0.921337</td>\n",
       "      <td>0.105911</td>\n",
       "      <td>0.303728</td>\n",
       "      <td>1.972317</td>\n",
       "      <td>1.390774</td>\n",
       "      <td>1.472403</td>\n",
       "      <td>1.040533</td>\n",
       "      <td>0.628954</td>\n",
       "      <td>0.269056</td>\n",
       "      <td>0.407946</td>\n",
       "      <td>2.350267</td>\n",
       "    </tr>\n",
       "    <tr>\n",
       "      <th>3</th>\n",
       "      <td>Iceland</td>\n",
       "      <td>Western Europe</td>\n",
       "      <td>7.5045</td>\n",
       "      <td>0.059616</td>\n",
       "      <td>7.621347</td>\n",
       "      <td>7.387653</td>\n",
       "      <td>10.772559</td>\n",
       "      <td>0.974670</td>\n",
       "      <td>73.000000</td>\n",
       "      <td>0.948892</td>\n",
       "      <td>0.246944</td>\n",
       "      <td>0.711710</td>\n",
       "      <td>1.972317</td>\n",
       "      <td>1.326502</td>\n",
       "      <td>1.547567</td>\n",
       "      <td>1.000843</td>\n",
       "      <td>0.661981</td>\n",
       "      <td>0.362330</td>\n",
       "      <td>0.144541</td>\n",
       "      <td>2.460688</td>\n",
       "    </tr>\n",
       "    <tr>\n",
       "      <th>4</th>\n",
       "      <td>Norway</td>\n",
       "      <td>Western Europe</td>\n",
       "      <td>7.4880</td>\n",
       "      <td>0.034837</td>\n",
       "      <td>7.556281</td>\n",
       "      <td>7.419719</td>\n",
       "      <td>11.087804</td>\n",
       "      <td>0.952487</td>\n",
       "      <td>73.200783</td>\n",
       "      <td>0.955750</td>\n",
       "      <td>0.134533</td>\n",
       "      <td>0.263218</td>\n",
       "      <td>1.972317</td>\n",
       "      <td>1.424207</td>\n",
       "      <td>1.495173</td>\n",
       "      <td>1.008072</td>\n",
       "      <td>0.670201</td>\n",
       "      <td>0.287985</td>\n",
       "      <td>0.434101</td>\n",
       "      <td>2.168266</td>\n",
       "    </tr>\n",
       "    <tr>\n",
       "      <th>5</th>\n",
       "      <td>Netherlands</td>\n",
       "      <td>Western Europe</td>\n",
       "      <td>7.4489</td>\n",
       "      <td>0.027792</td>\n",
       "      <td>7.503372</td>\n",
       "      <td>7.394428</td>\n",
       "      <td>10.812712</td>\n",
       "      <td>0.939139</td>\n",
       "      <td>72.300919</td>\n",
       "      <td>0.908548</td>\n",
       "      <td>0.207612</td>\n",
       "      <td>0.364717</td>\n",
       "      <td>1.972317</td>\n",
       "      <td>1.338946</td>\n",
       "      <td>1.463646</td>\n",
       "      <td>0.975675</td>\n",
       "      <td>0.613626</td>\n",
       "      <td>0.336318</td>\n",
       "      <td>0.368570</td>\n",
       "      <td>2.352117</td>\n",
       "    </tr>\n",
       "    <tr>\n",
       "      <th>6</th>\n",
       "      <td>Sweden</td>\n",
       "      <td>Western Europe</td>\n",
       "      <td>7.3535</td>\n",
       "      <td>0.036234</td>\n",
       "      <td>7.424519</td>\n",
       "      <td>7.282481</td>\n",
       "      <td>10.758794</td>\n",
       "      <td>0.926311</td>\n",
       "      <td>72.600769</td>\n",
       "      <td>0.939144</td>\n",
       "      <td>0.111615</td>\n",
       "      <td>0.250880</td>\n",
       "      <td>1.972317</td>\n",
       "      <td>1.322235</td>\n",
       "      <td>1.433348</td>\n",
       "      <td>0.986470</td>\n",
       "      <td>0.650298</td>\n",
       "      <td>0.272828</td>\n",
       "      <td>0.442066</td>\n",
       "      <td>2.246299</td>\n",
       "    </tr>\n",
       "    <tr>\n",
       "      <th>7</th>\n",
       "      <td>New Zealand</td>\n",
       "      <td>North America and ANZ</td>\n",
       "      <td>7.2996</td>\n",
       "      <td>0.039465</td>\n",
       "      <td>7.376953</td>\n",
       "      <td>7.222248</td>\n",
       "      <td>10.500943</td>\n",
       "      <td>0.949119</td>\n",
       "      <td>73.202629</td>\n",
       "      <td>0.936217</td>\n",
       "      <td>0.191598</td>\n",
       "      <td>0.221139</td>\n",
       "      <td>1.972317</td>\n",
       "      <td>1.242318</td>\n",
       "      <td>1.487218</td>\n",
       "      <td>1.008138</td>\n",
       "      <td>0.646790</td>\n",
       "      <td>0.325726</td>\n",
       "      <td>0.461268</td>\n",
       "      <td>2.128108</td>\n",
       "    </tr>\n",
       "    <tr>\n",
       "      <th>8</th>\n",
       "      <td>Austria</td>\n",
       "      <td>Western Europe</td>\n",
       "      <td>7.2942</td>\n",
       "      <td>0.033365</td>\n",
       "      <td>7.359596</td>\n",
       "      <td>7.228804</td>\n",
       "      <td>10.742824</td>\n",
       "      <td>0.928046</td>\n",
       "      <td>73.002502</td>\n",
       "      <td>0.899989</td>\n",
       "      <td>0.085429</td>\n",
       "      <td>0.499955</td>\n",
       "      <td>1.972317</td>\n",
       "      <td>1.317286</td>\n",
       "      <td>1.437445</td>\n",
       "      <td>1.000934</td>\n",
       "      <td>0.603369</td>\n",
       "      <td>0.255510</td>\n",
       "      <td>0.281256</td>\n",
       "      <td>2.398446</td>\n",
       "    </tr>\n",
       "    <tr>\n",
       "      <th>9</th>\n",
       "      <td>Luxembourg</td>\n",
       "      <td>Western Europe</td>\n",
       "      <td>7.2375</td>\n",
       "      <td>0.030852</td>\n",
       "      <td>7.297970</td>\n",
       "      <td>7.177031</td>\n",
       "      <td>11.450681</td>\n",
       "      <td>0.906912</td>\n",
       "      <td>72.599998</td>\n",
       "      <td>0.905636</td>\n",
       "      <td>-0.004621</td>\n",
       "      <td>0.367084</td>\n",
       "      <td>1.972317</td>\n",
       "      <td>1.536676</td>\n",
       "      <td>1.387528</td>\n",
       "      <td>0.986443</td>\n",
       "      <td>0.610137</td>\n",
       "      <td>0.195954</td>\n",
       "      <td>0.367041</td>\n",
       "      <td>2.153700</td>\n",
       "    </tr>\n",
       "  </tbody>\n",
       "</table>\n",
       "</div>"
      ],
      "text/plain": [
       "  Country name     Regional indicator  Ladder score  \\\n",
       "0      Finland         Western Europe        7.8087   \n",
       "1      Denmark         Western Europe        7.6456   \n",
       "2  Switzerland         Western Europe        7.5599   \n",
       "3      Iceland         Western Europe        7.5045   \n",
       "4       Norway         Western Europe        7.4880   \n",
       "5  Netherlands         Western Europe        7.4489   \n",
       "6       Sweden         Western Europe        7.3535   \n",
       "7  New Zealand  North America and ANZ        7.2996   \n",
       "8      Austria         Western Europe        7.2942   \n",
       "9   Luxembourg         Western Europe        7.2375   \n",
       "\n",
       "   Standard error of ladder score  upperwhisker  lowerwhisker  \\\n",
       "0                        0.031156      7.869766      7.747634   \n",
       "1                        0.033492      7.711245      7.579955   \n",
       "2                        0.035014      7.628528      7.491272   \n",
       "3                        0.059616      7.621347      7.387653   \n",
       "4                        0.034837      7.556281      7.419719   \n",
       "5                        0.027792      7.503372      7.394428   \n",
       "6                        0.036234      7.424519      7.282481   \n",
       "7                        0.039465      7.376953      7.222248   \n",
       "8                        0.033365      7.359596      7.228804   \n",
       "9                        0.030852      7.297970      7.177031   \n",
       "\n",
       "   Logged GDP per capita  Social support  Healthy life expectancy  \\\n",
       "0              10.639267        0.954330                71.900825   \n",
       "1              10.774001        0.955991                72.402504   \n",
       "2              10.979933        0.942847                74.102448   \n",
       "3              10.772559        0.974670                73.000000   \n",
       "4              11.087804        0.952487                73.200783   \n",
       "5              10.812712        0.939139                72.300919   \n",
       "6              10.758794        0.926311                72.600769   \n",
       "7              10.500943        0.949119                73.202629   \n",
       "8              10.742824        0.928046                73.002502   \n",
       "9              11.450681        0.906912                72.599998   \n",
       "\n",
       "   Freedom to make life choices  Generosity  Perceptions of corruption  \\\n",
       "0                      0.949172   -0.059482                   0.195445   \n",
       "1                      0.951444    0.066202                   0.168489   \n",
       "2                      0.921337    0.105911                   0.303728   \n",
       "3                      0.948892    0.246944                   0.711710   \n",
       "4                      0.955750    0.134533                   0.263218   \n",
       "5                      0.908548    0.207612                   0.364717   \n",
       "6                      0.939144    0.111615                   0.250880   \n",
       "7                      0.936217    0.191598                   0.221139   \n",
       "8                      0.899989    0.085429                   0.499955   \n",
       "9                      0.905636   -0.004621                   0.367084   \n",
       "\n",
       "   Ladder score in Dystopia  Explained by: Log GDP per capita  \\\n",
       "0                  1.972317                          1.285190   \n",
       "1                  1.972317                          1.326949   \n",
       "2                  1.972317                          1.390774   \n",
       "3                  1.972317                          1.326502   \n",
       "4                  1.972317                          1.424207   \n",
       "5                  1.972317                          1.338946   \n",
       "6                  1.972317                          1.322235   \n",
       "7                  1.972317                          1.242318   \n",
       "8                  1.972317                          1.317286   \n",
       "9                  1.972317                          1.536676   \n",
       "\n",
       "   Explained by: Social support  Explained by: Healthy life expectancy  \\\n",
       "0                      1.499526                               0.961271   \n",
       "1                      1.503449                               0.979333   \n",
       "2                      1.472403                               1.040533   \n",
       "3                      1.547567                               1.000843   \n",
       "4                      1.495173                               1.008072   \n",
       "5                      1.463646                               0.975675   \n",
       "6                      1.433348                               0.986470   \n",
       "7                      1.487218                               1.008138   \n",
       "8                      1.437445                               1.000934   \n",
       "9                      1.387528                               0.986443   \n",
       "\n",
       "   Explained by: Freedom to make life choices  Explained by: Generosity  \\\n",
       "0                                    0.662317                  0.159670   \n",
       "1                                    0.665040                  0.242793   \n",
       "2                                    0.628954                  0.269056   \n",
       "3                                    0.661981                  0.362330   \n",
       "4                                    0.670201                  0.287985   \n",
       "5                                    0.613626                  0.336318   \n",
       "6                                    0.650298                  0.272828   \n",
       "7                                    0.646790                  0.325726   \n",
       "8                                    0.603369                  0.255510   \n",
       "9                                    0.610137                  0.195954   \n",
       "\n",
       "   Explained by: Perceptions of corruption  Dystopia + residual  \n",
       "0                                 0.477857             2.762835  \n",
       "1                                 0.495260             2.432741  \n",
       "2                                 0.407946             2.350267  \n",
       "3                                 0.144541             2.460688  \n",
       "4                                 0.434101             2.168266  \n",
       "5                                 0.368570             2.352117  \n",
       "6                                 0.442066             2.246299  \n",
       "7                                 0.461268             2.128108  \n",
       "8                                 0.281256             2.398446  \n",
       "9                                 0.367041             2.153700  "
      ]
     },
     "execution_count": 93,
     "metadata": {},
     "output_type": "execute_result"
    }
   ],
   "source": [
    "df.groupby(['Freedom to make life choices'])\n",
    "df[:10]"
   ]
  },
  {
   "cell_type": "markdown",
   "metadata": {},
   "source": [
    "### 90% of top 10 are in the Western Europe region"
   ]
  },
  {
   "cell_type": "code",
   "execution_count": 99,
   "metadata": {},
   "outputs": [
    {
     "data": {
      "text/plain": [
       "<matplotlib.axes._subplots.AxesSubplot at 0x12874d850>"
      ]
     },
     "execution_count": 99,
     "metadata": {},
     "output_type": "execute_result"
    },
    {
     "data": {
      "image/png": "[encoded data removed]",
      "text/plain": [
       "<Figure size 432x288 with 2 Axes>"
      ]
     },
     "metadata": {
      "needs_background": "light"
     },
     "output_type": "display_data"
    }
   ],
   "source": [
    "sns.heatmap(pd.crosstab(df['Freedom to make life choices'], df['Regional indicator'], normalize='index'), cmap=\"YlGnBu\", annot=True)"
   ]
  },
  {
   "cell_type": "code",
   "execution_count": null,
   "metadata": {},
   "outputs": [],
   "source": []
  }
 ],
 "metadata": {
  "kernelspec": {
   "display_name": "Python 3",
   "language": "python",
   "name": "python3"
  },
  "language_info": {
   "codemirror_mode": {
    "name": "ipython",
    "version": 3
   },
   "file_extension": ".py",
   "mimetype": "text/x-python",
   "name": "python",
   "nbconvert_exporter": "python",
   "pygments_lexer": "ipython3",
   "version": "3.7.4"
  }
 },
 "nbformat": 4,
 "nbformat_minor": 4
}
